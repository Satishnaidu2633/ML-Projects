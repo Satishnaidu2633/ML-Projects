{
 "cells": [
  {
   "cell_type": "code",
   "execution_count": 15,
   "id": "58900ce6-ccf3-49f9-a792-aab0ec723dbd",
   "metadata": {},
   "outputs": [
    {
     "name": "stdout",
     "output_type": "stream",
     "text": [
      "Best Estimator: LogisticRegression(C=1, max_iter=1000)\n",
      "Best F1 Score on Test Set: 0.9790209790209791\n"
     ]
    }
   ],
   "source": [
    "from sklearn.model_selection import train_test_split, GridSearchCV\n",
    "from sklearn.datasets import load_breast_cancer\n",
    "from sklearn.linear_model import LogisticRegression\n",
    "from sklearn.preprocessing import StandardScaler\n",
    "\n",
    "# Load the dataset\n",
    "data = load_breast_cancer()\n",
    "\n",
    "# Split the dataset\n",
    "X_train, X_test, Y_train, Y_test = train_test_split(data.data, data.target, test_size=0.2, random_state=42)\n",
    "\n",
    "# Scale the data\n",
    "scaler = StandardScaler()\n",
    "X_train_scaled = scaler.fit_transform(X_train)\n",
    "X_test_scaled = scaler.transform(X_test)\n",
    "\n",
    "# Define hyperparameter grid\n",
    "tuned_parameters = [{'C': [10**-4, 10**-2, 10**0, 10**2, 10**4]}] #C=1/lambda\n",
    "\n",
    "# Perform GridSearchCV on Logistic Regression\n",
    "model = GridSearchCV(LogisticRegression(max_iter=1000, solver='lbfgs'), tuned_parameters, scoring='f1') #lgfbs:-lbfgs is a quasi-Newton optimization method that is efficient for smaller datasets and is the default solver for Logistic Regression.\n",
    "model.fit(X_train_scaled, Y_train)\n",
    "\n",
    "# Results\n",
    "print(\"Best Estimator:\", model.best_estimator_)\n",
    "print(\"Best F1 Score on Test Set:\", model.score(X_test_scaled, Y_test))\n"
   ]
  },
  {
   "cell_type": "code",
   "execution_count": 22,
   "id": "c0b249a2-f142-46be-8431-77a1b6ce5dba",
   "metadata": {},
   "outputs": [
    {
     "name": "stdout",
     "output_type": "stream",
     "text": [
      "30\n"
     ]
    }
   ],
   "source": [
    "import numpy as np\n",
    "\n",
    "clf=LogisticRegression(C=0.1, penalty='l2',max_iter=1000);\n",
    "clf.fit(X_train, Y_train);\n",
    "w=clf.coef_\n",
    "print(np.count_nonzero(w))"
   ]
  },
  {
   "cell_type": "code",
   "execution_count": 26,
   "id": "b57ae4c3-08d6-4ebf-ae39-6c636250f1d9",
   "metadata": {},
   "outputs": [
    {
     "name": "stdout",
     "output_type": "stream",
     "text": [
      "30\n"
     ]
    }
   ],
   "source": [
    "clf=LogisticRegression(C=0.01, penalty='l2',max_iter=1000);\n",
    "clf.fit(X_train, Y_train);\n",
    "w=clf.coef_\n",
    "print(np.count_nonzero(w))"
   ]
  }
 ],
 "metadata": {
  "kernelspec": {
   "display_name": "Python 3 (ipykernel)",
   "language": "python",
   "name": "python3"
  },
  "language_info": {
   "codemirror_mode": {
    "name": "ipython",
    "version": 3
   },
   "file_extension": ".py",
   "mimetype": "text/x-python",
   "name": "python",
   "nbconvert_exporter": "python",
   "pygments_lexer": "ipython3",
   "version": "3.11.9"
  }
 },
 "nbformat": 4,
 "nbformat_minor": 5
}
