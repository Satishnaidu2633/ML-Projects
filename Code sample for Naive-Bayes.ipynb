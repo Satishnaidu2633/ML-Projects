{
 "cells": [
  {
   "cell_type": "markdown",
   "id": "b64250ce-8d57-430a-80a4-dc267c1549f4",
   "metadata": {},
   "source": [
    "# Gaussian Naive-Bayes"
   ]
  },
  {
   "cell_type": "code",
   "execution_count": 9,
   "id": "36a60e2f-d62c-4a51-8e7c-30bfd203304c",
   "metadata": {},
   "outputs": [
    {
     "name": "stdout",
     "output_type": "stream",
     "text": [
      "Number of mislabeled points out of a total 75 points : 4\n",
      "Number of labeled points out of a total 75 points : 71\n"
     ]
    }
   ],
   "source": [
    "from sklearn.datasets import load_iris\n",
    "from sklearn.model_selection import train_test_split\n",
    "from sklearn.naive_bayes import GaussianNB\n",
    "X, y = load_iris(return_X_y=True)\n",
    "X_train, X_test, y_train, y_test = train_test_split(X, y, test_size=0.5, random_state=0)\n",
    "gnb = GaussianNB()\n",
    "y_pred = gnb.fit(X_train, y_train).predict(X_test)\n",
    "print(\"Number of mislabeled points out of a total %d points : %d\"\n",
    "      % (X_test.shape[0], (y_test != y_pred).sum()))\n",
    "print(\"Number of labeled points out of a total %d points : %d\"\n",
    "      % (X_test.shape[0], (y_test == y_pred).sum()))"
   ]
  },
  {
   "cell_type": "markdown",
   "id": "544345e6-cc25-40a5-9e12-0fc5e63de0b0",
   "metadata": {},
   "source": [
    "# Bernoulli Naive-Bayes"
   ]
  },
  {
   "cell_type": "code",
   "execution_count": 10,
   "id": "49a5ea35-89ae-4fc1-829c-ce3299086d6c",
   "metadata": {},
   "outputs": [
    {
     "name": "stdout",
     "output_type": "stream",
     "text": [
      "Number of mislabeled points out of a total 75 points : 54\n",
      "Number of labeled points out of a total 75 points : 21\n"
     ]
    }
   ],
   "source": [
    "from sklearn.datasets import load_iris\n",
    "from sklearn.model_selection import train_test_split\n",
    "from sklearn.naive_bayes import BernoulliNB\n",
    "X, y = load_iris(return_X_y=True)\n",
    "X_train, X_test, y_train, y_test = train_test_split(X, y, test_size=0.5, random_state=0)\n",
    "gnb = BernoulliNB()\n",
    "y_pred = gnb.fit(X_train, y_train).predict(X_test)\n",
    "print(\"Number of mislabeled points out of a total %d points : %d\"\n",
    "      % (X_test.shape[0], (y_test != y_pred).sum()))\n",
    "print(\"Number of labeled points out of a total %d points : %d\"\n",
    "      % (X_test.shape[0], (y_test == y_pred).sum()))"
   ]
  },
  {
   "cell_type": "markdown",
   "id": "d5060597-cd79-4876-a8e1-2048303383ae",
   "metadata": {},
   "source": [
    "# Multinomial Naive-Bayes"
   ]
  },
  {
   "cell_type": "code",
   "execution_count": 1,
   "id": "f4d89fe3-c673-4956-a072-2d2a72d70a76",
   "metadata": {},
   "outputs": [
    {
     "name": "stdout",
     "output_type": "stream",
     "text": [
      "Number of mislabeled points out of a total 75 points : 30\n",
      "Number of labeled points out of a total 75 points : 45\n"
     ]
    }
   ],
   "source": [
    "from sklearn.datasets import load_iris\n",
    "from sklearn.model_selection import train_test_split\n",
    "from sklearn.naive_bayes import MultinomialNB\n",
    "X, y = load_iris(return_X_y=True)\n",
    "X_train, X_test, y_train, y_test = train_test_split(X, y, test_size=0.5, random_state=0)\n",
    "gnb = MultinomialNB()\n",
    "y_pred = gnb.fit(X_train, y_train).predict(X_test)\n",
    "print(\"Number of mislabeled points out of a total %d points : %d\"\n",
    "      % (X_test.shape[0], (y_test != y_pred).sum()))\n",
    "print(\"Number of labeled points out of a total %d points : %d\"\n",
    "      % (X_test.shape[0], (y_test == y_pred).sum()))"
   ]
  },
  {
   "cell_type": "markdown",
   "id": "68565925-28d9-4eb3-8539-41095d157632",
   "metadata": {},
   "source": [
    "# Categorical Naive-Bayes"
   ]
  },
  {
   "cell_type": "code",
   "execution_count": 2,
   "id": "5920a4e2-f585-4234-91ff-fb256699a281",
   "metadata": {},
   "outputs": [
    {
     "name": "stdout",
     "output_type": "stream",
     "text": [
      "Number of mislabeled points out of a total 75 points : 7\n",
      "Number of labeled points out of a total 75 points : 68\n"
     ]
    }
   ],
   "source": [
    "from sklearn.datasets import load_iris\n",
    "from sklearn.model_selection import train_test_split\n",
    "from sklearn.naive_bayes import CategoricalNB\n",
    "X, y = load_iris(return_X_y=True)\n",
    "X_train, X_test, y_train, y_test = train_test_split(X, y, test_size=0.5, random_state=0)\n",
    "gnb = CategoricalNB()\n",
    "y_pred = gnb.fit(X_train, y_train).predict(X_test)\n",
    "print(\"Number of mislabeled points out of a total %d points : %d\"\n",
    "      % (X_test.shape[0], (y_test != y_pred).sum()))\n",
    "print(\"Number of labeled points out of a total %d points : %d\"\n",
    "      % (X_test.shape[0], (y_test == y_pred).sum()))"
   ]
  }
 ],
 "metadata": {
  "kernelspec": {
   "display_name": "Python 3 (ipykernel)",
   "language": "python",
   "name": "python3"
  },
  "language_info": {
   "codemirror_mode": {
    "name": "ipython",
    "version": 3
   },
   "file_extension": ".py",
   "mimetype": "text/x-python",
   "name": "python",
   "nbconvert_exporter": "python",
   "pygments_lexer": "ipython3",
   "version": "3.11.9"
  }
 },
 "nbformat": 4,
 "nbformat_minor": 5
}
